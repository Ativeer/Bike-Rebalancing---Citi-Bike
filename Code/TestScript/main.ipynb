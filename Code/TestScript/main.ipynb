{
 "cells": [
  {
   "cell_type": "code",
   "execution_count": null,
   "metadata": {},
   "outputs": [],
   "source": [
    "from training import trainer\n",
    "import helper\n",
    "\n",
    "if __name__ == \"__main__\":\n",
    "\n",
    "    # Get Initial Parameters    \n",
    "    episode_list, data, ID, brain, model_based, station_history = user_input()\n",
    "\n",
    "\n",
    "    # Set Up a Training Environment\n",
    "\n",
    "    if brain != 'all':\n",
    "        trainer = trainer(station_history)\n",
    "        trainer.start(episode_list, data, logging  = \n",
    "                      True, env_debug = False, rl_debug = False,\n",
    "                      brain=brain, ID = ID, model_based = model_based)\n",
    "    else:\n",
    "        \n",
    "        # update the subsequent trainer init workflow\n",
    "        # Run a end to end test\n",
    "        \n",
    "        trainer_QLN = trainer(station_history)\n",
    "        trainer_FCT = trainer(station_history)\n",
    "        trainer_DQN = trainer(station_history)\n",
    "        \n",
    "        trainer_QLN.start(episode_list, data, logging  = \n",
    "                      True, env_debug = False, rl_debug = False,\n",
    "                      brain='q', ID = ID, model_based = False)\n",
    "        \n",
    "        trainer_FCT.start(episode_list, data, logging  = \n",
    "                      True, env_debug = False, rl_debug = False,\n",
    "                      brain='q', ID = ID, model_based = True)\n",
    "        \n",
    "        trainer_DQN.start(episode_list, data, logging  = \n",
    "                      True, env_debug = False, rl_debug = False,\n",
    "                      brain='dqn', ID = ID, model_based = False)"
   ]
  },
  {
   "cell_type": "code",
   "execution_count": null,
   "metadata": {},
   "outputs": [],
   "source": []
  },
  {
   "cell_type": "code",
   "execution_count": null,
   "metadata": {},
   "outputs": [],
   "source": []
  }
 ],
 "metadata": {
  "kernelspec": {
   "display_name": "Python 3",
   "language": "python",
   "name": "python3"
  },
  "language_info": {
   "codemirror_mode": {
    "name": "ipython",
    "version": 3
   },
   "file_extension": ".py",
   "mimetype": "text/x-python",
   "name": "python",
   "nbconvert_exporter": "python",
   "pygments_lexer": "ipython3",
   "version": "3.7.3"
  }
 },
 "nbformat": 4,
 "nbformat_minor": 2
}
